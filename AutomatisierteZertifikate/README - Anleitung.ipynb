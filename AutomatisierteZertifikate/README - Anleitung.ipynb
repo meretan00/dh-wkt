{
 "cells": [
  {
   "cell_type": "markdown",
   "metadata": {},
   "source": [
    "# 🧾 Anwenderanleitung – Zertifikatsgenerator „Digitale Hermeneutik“\n",
    "\n",
    "## 🔧 Voraussetzungen\n",
    "- **Python 3.9+**\n",
    "- Installierte Bibliotheken:\n",
    "  ```bash\n",
    "  pip install Pillow\n",
    "---\n"
   ]
  },
  {
   "cell_type": "code",
   "execution_count": null,
   "metadata": {},
   "outputs": [],
   "source": [
    "pip install Pillow"
   ]
  },
  {
   "cell_type": "markdown",
   "metadata": {},
   "source": [
    "---\n",
    "Ausführung lokal über:\n",
    "  ```bash\n",
    "  python Main.py"
   ]
  },
  {
   "cell_type": "markdown",
   "metadata": {},
   "source": [
    "\n",
    "---\n",
    "\n",
    "### 🖼️ Funktionsübersicht\n",
    "\n",
    "```markdown\n",
    "## 🖼️ Übersicht: Was macht das Programm?\n",
    "\n",
    "Erstellung von **PDF-Zertifikaten** auf Basis von:\n",
    "- Teilnehmerliste (.csv)\n",
    "- Workshopdaten (Titel, Inhalte, Zeitraum)\n",
    "- Sprache (deutsch/englisch)\n",
    "- Einbettung auf einem vordefinierten Zertifikat-Layout\n",
    "- Einbindung einer Signatur\n"
   ]
  },
  {
   "cell_type": "markdown",
   "metadata": {},
   "source": [
    "## 📋 Schritt-für-Schritt-Anleitung\n",
    "\n",
    "### 1. Auswahl zur Grundeinstellungen\n",
    "\n",
    "| Feld             | Beschreibung                                    | Beispiel               |\n",
    "|------------------|--------------------------------------------------|------------------------|\n",
    "| `Semester`       | Semestername                                     | `Wintersemester 24/25` |\n",
    "| `Filepräfix`     | Datei-Präfix für Zertifikate                     | `20241124_ORC4all`     |\n",
    "| `Workshopbeginn` | Datum im Format `YYYY-MM-DD`                     | `2024-11-24`           |\n",
    "| `Workshopende`   | optional; gleiches Format wie Beginn             | `2024-11-25`           |\n",
    "| `Sprache`        | Dropdown: `de` oder `eng`                        |                        |\n"
   ]
  },
  {
   "cell_type": "markdown",
   "metadata": {},
   "source": [
    "### 2. Signatur importieren (optional)\n",
    "- Standard: `unterschrift.png` im Projektordner\n",
    "- Alternativ: eigene Signaturdatei als PNG oder JPG\n",
    "\n",
    "### 3. Teilnehmerliste importieren\n",
    "- CSV-Datei mit **einer Spalte (Name pro Zeile)**\n",
    "- CSV-Datei benötigt kein Fieldname (Titel der Spalte)  \n",
    "\n"
   ]
  },
  {
   "cell_type": "markdown",
   "metadata": {},
   "source": [
    "### 4. Ablageort wählen\n",
    "- Wähle einen Ordner, in dem die Zertifikate gespeichert werden sollen.\n",
    "\n",
    "### 5. Workshopbeschreibung\n",
    "- Titel des Workshops\n",
    "- Bis zu **10 Stichpunkte** zu den Inhalten\n",
    "- Alles darüber verschiebt die Formatierung des Zertifikats\n",
    "\n",
    "### 6. Schriftgröße (optional)\n",
    "- Fontgröße für Workshoptitel im Zertifikat (Standard: `70`)\n"
   ]
  },
  {
   "cell_type": "markdown",
   "metadata": {},
   "source": [
    "## 💾 Einstellungen speichern & laden\n",
    "Es können bisherige Eingaben gespeichert und wieder abgerufen werden. Ebenso können favorisierte Einstellungen somit als Vorlage gespeichert werden.\n",
    "- **Speichern:** `.json` mit allen Eingaben\n",
    "- **Laden:** Vorher gespeicherte `.json` laden und automatisch ausfüllen lassen\n"
   ]
  },
  {
   "cell_type": "markdown",
   "metadata": {},
   "source": [
    "## 🖨️ Zertifikate erstellen\n",
    "\n",
    "1. Eingaben überprüfen (Fehlermeldungen unten im Fenster)\n",
    "2. Button `Erstelle Zertifikate` klicken\n",
    "3. Ergebnis:\n",
    "   - Pro Teilnehmer ein PDF im gewählten Ordner\n",
    "   - Feedback im unteren Feld\n"
   ]
  },
  {
   "cell_type": "markdown",
   "metadata": {},
   "source": [
    "## ❗ Mögliche Fehlermeldungen\n",
    "\n",
    "- ❌ *„Filepräfix entspricht nicht dem Muster“*  \n",
    "  → Muss z. B. `20241124_XML` heißen\n",
    "\n",
    "- ❌ *„Zeitfeld falsch“*  \n",
    "  → Format: `YYYY-MM-DD`\n",
    "\n",
    "- ❌ *„Teilnehmerliste hat mehr als eine Spalte“*  \n",
    "  → Nur eine Spalte mit Namen verwenden\n",
    "\n",
    "- ❌ *„Keine Sprache ausgewählt“*  \n",
    "  → Sprache auswählen!\n"
   ]
  },
  {
   "cell_type": "markdown",
   "metadata": {},
   "source": [
    "## 📂 Verwendete Dateien und Ordner\n",
    "\n",
    "| Dateipfad                      | Funktion                                |\n",
    "|-------------------------------|------------------------------------------|\n",
    "| `Main.py`                     | Startpunkt, enthält die GUI              |\n",
    "| `Media/WKT_Certificate-01.png` | Hintergrundbild für Zertifikate         |\n",
    "| `Data/de_text.json`           | deutsche Textbausteine                   |\n",
    "| `Data/en_text.json`           | englische Textbausteine                  |\n",
    "| `unterschrift.png`            | Standardsignatur                         |\n"
   ]
  }
 ],
 "metadata": {
  "kernelspec": {
   "display_name": "Python 3",
   "language": "python",
   "name": "python3"
  },
  "language_info": {
   "codemirror_mode": {
    "name": "ipython",
    "version": 3
   },
   "file_extension": ".py",
   "mimetype": "text/x-python",
   "name": "python",
   "nbconvert_exporter": "python",
   "pygments_lexer": "ipython3",
   "version": "3.11.9"
  }
 },
 "nbformat": 4,
 "nbformat_minor": 2
}
